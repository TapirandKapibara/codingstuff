{
 "cells": [
  {
   "cell_type": "code",
   "execution_count": 1,
   "id": "d8ba67d4",
   "metadata": {},
   "outputs": [],
   "source": [
    "import ghostscript\n",
    "import camelot\n",
    "import pandas as pd\n",
    "import numpy\n",
    "import warnings\n",
    "warnings.filterwarnings('ignore')\n",
    "import ipywidgets as widgets\n",
    "import io\n",
    "import base64\n",
    "from IPython.display import HTML\n",
    "#import PyPDF2"
   ]
  },
  {
   "cell_type": "code",
   "execution_count": 2,
   "id": "c0293a04",
   "metadata": {},
   "outputs": [],
   "source": [
    "#title = 'Click here to download'\n",
    "#filename = 'converted.csv'"
   ]
  },
  {
   "cell_type": "code",
   "execution_count": 3,
   "id": "89c08591",
   "metadata": {},
   "outputs": [
    {
     "data": {
      "application/vnd.jupyter.widget-view+json": {
       "model_id": "219cf39d21c24c6fb7592f6f7435a71b",
       "version_major": 2,
       "version_minor": 0
      },
      "text/plain": [
       "FileUpload(value={}, accept='.pdf', description='Upload')"
      ]
     },
     "metadata": {},
     "output_type": "display_data"
    }
   ],
   "source": [
    "uploader = widgets.FileUpload(accept = '.pdf', multiple=False)\n",
    "display(uploader)"
   ]
  },
  {
   "cell_type": "code",
   "execution_count": 4,
   "id": "d06dca79",
   "metadata": {},
   "outputs": [],
   "source": [
    "input_file = list(uploader.value.values())[0]"
   ]
  },
  {
   "cell_type": "code",
   "execution_count": 5,
   "id": "36d570e2",
   "metadata": {},
   "outputs": [],
   "source": [
    "content = input_file['content']"
   ]
  },
  {
   "cell_type": "code",
   "execution_count": 6,
   "id": "21b837e0",
   "metadata": {},
   "outputs": [],
   "source": [
    "with open(\"outputfile.pdf\", \"wb\") as fp:\n",
    "    fp.write(content)"
   ]
  },
  {
   "cell_type": "code",
   "execution_count": 7,
   "id": "6430f76e",
   "metadata": {},
   "outputs": [],
   "source": [
    "tables = camelot.read_pdf(\"outputfile.pdf\", pages='all')"
   ]
  },
  {
   "cell_type": "code",
   "execution_count": 8,
   "id": "dbcbce71",
   "metadata": {},
   "outputs": [],
   "source": [
    "df_list = []\n",
    "table_id = 0"
   ]
  },
  {
   "cell_type": "code",
   "execution_count": 9,
   "id": "ae68e1b2",
   "metadata": {},
   "outputs": [],
   "source": [
    "for (index, table) in enumerate(tables):\n",
    "    if '1 Detector A 280nm' in table.df.values:\n",
    "        pass\n",
    "    else:\n",
    "        table_id+=1\n",
    "        table.df.insert(loc=len(table.df.columns), column='Table_id', value = table_id)\n",
    "        df_list.append(table.df)\n"
   ]
  },
  {
   "cell_type": "code",
   "execution_count": 10,
   "id": "edb5a7c6",
   "metadata": {},
   "outputs": [],
   "source": [
    "df_fin = pd.concat(df_list)"
   ]
  },
  {
   "cell_type": "code",
   "execution_count": 11,
   "id": "c5c78082",
   "metadata": {},
   "outputs": [],
   "source": [
    "df_fin.dropna(axis=0, how='all', inplace=True)\n",
    "df_fin.dropna(axis=1, how='all', inplace=True)"
   ]
  },
  {
   "cell_type": "code",
   "execution_count": 12,
   "id": "03e79b90",
   "metadata": {},
   "outputs": [],
   "source": [
    "df_fin.to_csv('converted.csv')"
   ]
  },
  {
   "cell_type": "code",
   "execution_count": 13,
   "id": "25cf7c42",
   "metadata": {},
   "outputs": [
    {
     "data": {
      "text/html": [
       "<a download=\"converted.csv\" href=\"data:text/csv;base64,LDAsMSwyLDMsNCxUYWJsZV9pZA0KMCxQZWFrIyxSZXQuIFRpbWUsQXJlYSxIZWlnaHQsSUQjLDENCjEsMSw0LjcyNywxNTQxOCw1NjYsLDENCjIsMiw1LjczNSwxMzcyNTg5LDQ0ODE1LCwxDQozLDMsNi45NjYsMTM5NDAyLDM3OTIsLDENCjQsNCw4LjAwNiwzNjUxOCwxMzEwLCwxDQo1LDUsOC42NjksMjEzOTEsNjgxLCwxDQo2LDYsOS41ODcsMjAxNzYsNDg4LCwxDQo3LDcsMTEuMDczLDIxNzgsOTgsLDENCjgsOCwxMy4yNTIsMTMzOTcsNDM1LCwxDQo5LFRvdGFsLCwxNjIxMDY4LDUyMTg1LCwxDQowLFBlYWsjLFJldC4gVGltZSxBcmVhLEhlaWdodCxJRCMsMg0KMSwxLDcuMDM5LDY2MTAzLDE5NjgsLDINCjIsMiw4LjAxNCwzMTU0NCwxMTAyLCwyDQozLDMsOC42NzUsMTA1NTEsMzY4LCwyDQo0LDQsOS41NTMsNDkyMywxODIsLDINCjUsNSwxMC4wMTEsNDI1MSwxODAsLDINCjYsNiwxMS4wNzYsMjUwOSwxMDgsLDINCjcsNywxMy4yNTYsODg1OCwyOTYsLDINCjgsVG90YWwsLDEyODczOCw0MjA0LCwyDQowLD09PT0gU2hpbWFkenUgTGFiU29sdXRpb25zIFN1bW1hcnkgUmVwb3J0ID09PT0sLCwsLDMNCjEsMSw0LjcyMCwxOTYwLDkxLCwzDQoyLDIsNS44MTcsOTcwOTEyLDMxNzE0LCwzDQozLDMsNi45NzUsNDg5MjQsMTQwNCwsMw0KNCw0LDguMDIxLDIzNTQ1LDk2MiwsMw0KNSw1LDguNjgxLDc3NDYsMjk1LCwzDQo2LDYsOS41NDksMjMwOSwxMDQsLDMNCjcsNywxMS4wODEsMjEzNiw4OCwsMw0KOCw4LDEzLjI2NCw2NzcwLDIzNCwsMw0KOSxUb3RhbCwsMTA2NDMwMiwzNDg5MiwsMw0KMCxQZWFrIyxSZXQuIFRpbWUsQXJlYSxIZWlnaHQsSUQjLDQNCjEsMSw3LjAwNSwxMjQzNzYsMzY1MCwsNA0KMiwyLDguMDExLDE2Nzk3LDgwMCwsNA0KMywzLDEwLjAyNCwxMjgzLDc2LCw0DQo0LDQsMTEuMDU2LDIwMzcsOTEsLDQNCjUsNSwxMy4yNDYsNjcxMCwyMjgsLDQNCjYsVG90YWwsLDE1MTIwMyw0ODQ1LCw0DQowLFBlYWsjLFJldC4gVGltZSxBcmVhLEhlaWdodCxJRCMsNQ0KMSwxLDMuNzIyLDgyMzIsMjI5LCw1DQoyLDIsNC43MDksNjA5MCwxNzEsLDUNCjMsMyw1Ljg3NSwxODU2NTMsNTg3MCwsNQ0KNCw0LDYuOTU0LDQwMTk2LDEwOTUsLDUNCjUsNSw4LjAxNywyODAxNCwxMDA3LCw1DQo2LDYsOC42NjUsMTYwNDQsNDk2LCw1DQo3LDcsOS41NjAsMTEwNTEsMjYyLCw1DQo4LDgsMTEuMDY2LDE5NTAsODUsLDUNCjksOSwxMy4yNTYsNzI2MCwyNDksLDUNCjEwLFRvdGFsLCwzMDQ0OTAsOTQ2NSwsNQ0KMCxQZWFrIyxSZXQuIFRpbWUsQXJlYSxIZWlnaHQsSUQjLDYNCjEsMSw1Ljc4NiwxMTAwMjAsMzY4MywsNg0KMiwyLDYuOTY0LDI1NDI1OCw3Mjk3LCw2DQozLDMsOC4wMTYsMTMzMTQsNjgzLCw2DQo0LDQsOS41NTMsMTAwMyw2MywsNg0KNSw1LDExLjA2NiwyMjM5LDk3LCw2DQo2LDYsMTMuMjQ1LDkyMTcsMzExLCw2DQo3LFRvdGFsLCwzOTAwNTIsMTIxMzQsLDYNCjAsUGVhayMsUmV0LiBUaW1lLEFyZWEsSGVpZ2h0LElEIyw3DQoxLDEsNC43MjAsNTc1OCwyMjksLDcNCjIsMiw1LjcyNywxMDI1NDk3LDMzNDMxLCw3DQozLDMsNy4wMTAsNjY0MTQsMTc1NiwsNw0KNCw0LDguMDMwLDI5NzE2LDEwNTMsLDcNCjUsNSw4LjY4MiwzMzQ4OCwxMDE1LCw3DQo2LDYsOS41OTYsMjMzODIsNjIyLCw3DQo3LDcsMTEuMDc3LDI1NzgsMTA2LCw3DQo4LDgsMTMuMjQ5LDExNTU4LDM3OSwsNw0KOSxUb3RhbCwsMTE5ODM5MSwzODU5MiwsNw0KMCw9PT09IFNoaW1hZHp1IExhYlNvbHV0aW9ucyBTdW1tYXJ5IFJlcG9ydCA9PT09LCwsLCw4DQoxLDEsNS43NzUsMzczODM4LDEyMTA4LCw4DQoyLDIsNi45NDIsMjMwMDAsNjcyLCw4DQozLDMsOC4wMDMsMTU3ODYsNzYwLCw4DQo0LDQsOS41NzIsMjYxNiwxMzAsLDgNCjUsNSwxMC4wMTUsNDYyNiwyMjAsLDgNCjYsNiwxMS4wNTAsMjUwNiwxMDMsLDgNCjcsNywxMy4yMzgsMTgyODMsNjAyLCw4DQo4LFRvdGFsLCw0NDA2NTUsMTQ1OTQsLDgNCjAsUGVhayMsUmV0LiBUaW1lLEFyZWEsSGVpZ2h0LElEIyw5DQoxLDEsNC43MzQsMTU4NzUsNjExLCw5DQoyLDIsNS43NDYsMjEzMDY4NSw2OTk2MCwsOQ0KMywzLDYuOTk5LDE4MTI1NSw1MTQwLCw5DQo0LDQsOC4wMTIsMjE4NzMsODExLCw5DQo1LDUsOC42NTgsNDkwNCwyMjUsLDkNCjYsNiwxMS4wNTYsMjY5NiwxMDksLDkNCjcsNywxMy4yNDcsNjY4NywyMjMsLDkNCjgsVG90YWwsLDIzNjM5NzYsNzcwNzksLDkNCjAsUGVhayMsUmV0LiBUaW1lLEFyZWEsSGVpZ2h0LElEIywxMA0KMSwxLDUuNzMwLDE2ODE3LDYwOCwsMTANCjIsMiw3LjAyOCwxMDE0MTIsMzE0MCwsMTANCjMsMyw4LjAwOSwxMjk2Niw2MzcsLDEwDQo0LDQsMTEuMDU4LDE5MzMsODksLDEwDQo1LDUsMTMuMjQ1LDExNzgsNTQsLDEwDQo2LFRvdGFsLCwxMzQzMDYsNDUyNywsMTANCjAsUGVhayMsUmV0LiBUaW1lLEFyZWEsSGVpZ2h0LElEIywxMQ0KMSwxLDQuNzM1LDIxMjYsODAsLDExDQoyLDIsNS43NjcsMTE2MTM3NywzODU2MCwsMTENCjMsMyw2Ljk2OCw1MDE5NywxNDU4LCwxMQ0KNCw0LDguMDEzLDE0MTkxLDY4NCwsMTENCjUsNSwxMS4wNjYsMjc1MSwxMTcsLDExDQo2LFRvdGFsLCwxMjMwNjQzLDQwODk5LCwxMQ0KMCxQZWFrIyxSZXQuIFRpbWUsQXJlYSxIZWlnaHQsSUQjLDEyDQoxLDEsNC43NjAsMTkzOTAsNTQ3LCwxMg0KMiwyLDUuNzc2LDI5ODcyOTUsOTg0MzEsLDEyDQozLDMsNy4wMjEsODU3NzEsMjQ0OSwsMTINCjQsNCw4LjAxNCwyMzg1MSw4NzAsLDEyDQo1LDUsOC42OTgsMTEyNDMsMzMxLCwxMg0KNiw2LDkuNTM5LDQxNDEsMTM2LCwxMg0KNyw3LDExLjA1NCwzOTM3LDE0MiwsMTINCjgsVG90YWwsLDMxMzU2MjcsMTAyOTA2LCwxMg0KMCxQZWFrIyxSZXQuIFRpbWUsQXJlYSxIZWlnaHQsSUQjLDEzDQoxLDEsNC43MjEsMzc3MCwxNjEsLDEzDQoyLDIsNS43NzgsNDYyNDI0LDE1MzA4LCwxMw0KMywzLDYuOTY2LDExNTY5MCwzMzYxLCwxMw0KNCw0LDguMDE0LDEyMjc2LDYwNywsMTMNCjUsNSwxMS4wNjMsMjU2OCwxMDksLDEzDQo2LFRvdGFsLCw1OTY3MjksMTk1NDYsLDEzDQowLFBlYWsjLFJldC4gVGltZSxBcmVhLEhlaWdodCxJRCMsMTQNCjEsMSw0LjcxNCwyNzE2LDExMywsMTQNCjIsMiw1Ljg1OCwxMjUzMjE0LDM5OTg1LCwxNA0KMywzLDYuOTQ1LDYzODMzLDE4OTgsLDE0DQo0LDQsOC4wMDksMTI4NzYsNjM1LCwxNA0KNSw1LDkuNTE5LDEzNjEsNTksLDE0DQo2LDYsMTEuMDYyLDIzNjMsMTA2LCwxNA0KNyxUb3RhbCwsMTMzNjM2NCw0Mjc5NiwsMTQNCjAsUGVhayMsUmV0LiBUaW1lLEFyZWEsSGVpZ2h0LElEIywxNQ0KMSwxLDQuNzYzLDMxMDA5LDExMTIsLDE1DQoyLDIsNS43NzEsMjAzNjE0Myw2NzMyNSwsMTUNCjMsMyw2Ljk4NSwxODA3NzgsNTIxNSwsMTUNCjQsNCw4LjAxMSwxMTg2Nyw1OTUsLDE1DQo1LDUsMTEuMDY0LDIyMDksOTQsLDE1DQo2LDYsMTMuMjM3LDIzMzMsOTQsLDE1DQo3LFRvdGFsLCwyMjY0MzQwLDc0NDM1LCwxNQ0KMCxQZWFrIyxSZXQuIFRpbWUsQXJlYSxIZWlnaHQsSUQjLDE2DQoxLDEsNS43MTUsMjcyMDYwLDg5OTIsLDE2DQoyLDIsNy4wMTcsMTM0OTY0LDM4OTQsLDE2DQozLDMsNy45OTYsMzEzNjYsOTU2LCwxNg0KNCw0LDguNjA4LDEyODAxLDQ5OCwsMTYNCjUsNSw5LjUyMSw2ODU5LDIzMCwsMTYNCjYsNiwxMC4wMDAsNDQ1NiwxODUsLDE2DQo3LDcsMTEuMDU5LDIzOTcsMTA1LCwxNg0KOCw4LDEzLjI0OCwxMTUwNSwzODQsLDE2DQo5LFRvdGFsLCw0NzY0MDcsMTUyNDUsLDE2DQowLFBlYWsjLFJldC4gVGltZSxBcmVhLEhlaWdodCxJRCMsMTcNCjEsMSw0Ljc2MSw0MzMzLDE4OCwsMTcNCjIsMiw1Ljc5NywyNTczNjkzLDg1Mjk5LCwxNw0KMywzLDYuOTkwLDc0NTA1LDIxODksLDE3DQo0LDQsOC4wMjUsMzk0ODAsODM4LCwxNw0KNSw1LDkuNTIyLDEwNzgsNTYsLDE3DQo2LDYsMTEuMDUzLDI0NzMsOTMsLDE3DQo3LDcsMTMuMjQ0LDU4MjQsMjAxLCwxNw0KOCxUb3RhbCwsMjcwMTM4NSw4ODg2NCwsMTcNCjAsUGVhayMsUmV0LiBUaW1lLEFyZWEsSGVpZ2h0LElEIywxOA0KMSwxLDQuNzM3LDMwOTUsMTMxLCwxOA0KMiwyLDUuODMzLDU1OTgxNSwxODc5NiwsMTgNCjMsMyw2Ljk1Nyw1MjE0NSwxNDk4LCwxOA0KNCw0LDguMDExLDE3NTUzLDY5NiwsMTgNCjUsNSw4LjY3MSw2NzQxLDIzOSwsMTgNCjYsNiwxMS4wNTIsMjE3Nyw5OSwsMTgNCjcsVG90YWwsLDY0MTUyNSwyMTQ1NywsMTgNCjAsPT09PSBTaGltYWR6dSBMYWJTb2x1dGlvbnMgU3VtbWFyeSBSZXBvcnQgPT09PSwsLCwsMTkNCjEsMSw0LjcyMywyMDM0NSw3NTcsLDE5DQoyLDIsNS43NDgsMTU2Mzk2Niw1MTQxMSwsMTkNCjMsMyw2Ljk2MCw5ODYyMywyODI3LCwxOQ0KNCw0LDguMDA1LDExODMwLDU2NywsMTkNCjUsNSwxMS4wNTEsMjE2NSw5NCwsMTkNCjYsVG90YWwsLDE2OTY5MjksNTU2NTcsLDE5DQowLFBlYWsjLFJldC4gVGltZSxBcmVhLEhlaWdodCxJRCMsMjANCjEsMSw0LjcyNiwxMjUxNCw0ODEsLDIwDQoyLDIsNS43NTIsMTUyMTAxOCw1MDI4NywsMjANCjMsMyw2Ljk1MSwxMTE1OTQsMzIwMywsMjANCjQsNCw3Ljk5OCwxMjczNSw2MTcsLDIwDQo1LDUsMTEuMDQ5LDI1NzYsMTE0LCwyMA0KNixUb3RhbCwsMTY2MDQzNyw1NDcwMiwsMjANCjAsUGVhayMsUmV0LiBUaW1lLEFyZWEsSGVpZ2h0LElEIywyMQ0KMSwxLDQuNzIwLDIxNzEsOTMsLDIxDQoyLDIsNS43NzUsMzE2ODc2LDEwNTcxLCwyMQ0KMywzLDcuMDE3LDI2NTk3LDgyNiwsMjENCjQsNCw4LjAwNywxMjgxNCw2MDAsLDIxDQo1LDUsMTEuMDU1LDMxMDQsMTMyLCwyMQ0KNixUb3RhbCwsMzYxNTYzLDEyMjIyLCwyMQ0KMCw9PT09IFNoaW1hZHp1IExhYlNvbHV0aW9ucyBTdW1tYXJ5IFJlcG9ydCA9PT09LCwsLCwyMg0KMSwxLDQuNzcyLDMyOTIwLDEwNTYsLDIyDQoyLDIsNS43NTIsMzQ1NTgyNCwxMTM0MzEsLDIyDQozLDMsNi45OTEsNjU0NzksMTk0NSwsMjINCjQsNCw4LjAwMiwyMDQ2OCw3NTIsLDIyDQo1LDUsOC42NzUsOTM5MCwzMDUsLDIyDQo2LDYsOS41NjcsMzEzOSwxMTcsLDIyDQo3LDcsMTEuMDQ4LDMzMzcsMTMyLCwyMg0KOCxUb3RhbCwsMzU5MDU1NywxMTc3MzksLDIyDQowLFBlYWsjLFJldC4gVGltZSxBcmVhLEhlaWdodCxJRCMsMjMNCjEsMSw0LjY5NSwyMDU4LDg5LCwyMw0KMiwyLDUuNzk0LDE4NjU2MzEsNjIxMzEsLDIzDQozLDMsNi45NDgsNDE5NDgsMTIzNSwsMjMNCjQsNCw3Ljk5OCwyMTM5MSw3NTAsLDIzDQo1LDUsOC43MDAsNTYwNiwyMTYsLDIzDQo2LDYsOS41MTQsMTE1Nyw1NywsMjMNCjcsNywxMS4wNDksMjk0NywxMjQsLDIzDQo4LFRvdGFsLCwxOTQwNzM4LDY0NjAyLCwyMw0KMCxQZWFrIyxSZXQuIFRpbWUsQXJlYSxIZWlnaHQsSUQjLDI0DQoxLDEsNC43NDEsMTgxNzMsNjg0LCwyNA0KMiwyLDUuNzc3LDIxNTI1MzgsNzIwMTIsLDI0DQozLDMsNi45NzksMTE3MzU4LDMzOTAsLDI0DQo0LDQsOC4wMTMsMTI1MzgsNTg3LCwyNA0KNSw1LDkuNTU3LDI3MzMsMTI4LCwyNA0KNiw2LDEwLjAyNCwzMDA3LDE1MiwsMjQNCjcsNywxMS4wNTYsMjkzNCwxMTksLDI0DQo4LDgsMTMuMjQ4LDEyMjMxLDQyMywsMjQNCjksVG90YWwsLDIzMjE1MTIsNzc0OTUsLDI0DQowLFBlYWsjLFJldC4gVGltZSxBcmVhLEhlaWdodCxJRCMsMjUNCjEsMSwzLjY4MCwyNjMwNSw4MTcsLDI1DQoyLDIsNC43NzAsMzQ4MDAsMTAwNCwsMjUNCjMsMyw1Ljk3MSwyODQ5MTMsODIzNSwsMjUNCjQsNCw2Ljk3MCw3NjUzNywyMDUxLCwyNQ0KNSw1LDguMDAxLDI0OTM0LDgzNywsMjUNCjYsNiw4LjY0NywxNzU0MCw1MDYsLDI1DQo3LDcsOS41MzksMTAzNjksMjczLCwyNQ0KOCw4LDExLjA0OCwxNjMzLDc2LCwyNQ0KOSw5LDEzLjI1Miw1MzI0LDE4MywsMjUNCjEwLFRvdGFsLCw0ODIzNTQsMTM5ODEsLDI1DQowLD09PT0gU2hpbWFkenUgTGFiU29sdXRpb25zIFN1bW1hcnkgUmVwb3J0ID09PT0sLCwsLDI2DQoxLDEsNC43NDIsMTQ5OSw2OCwsMjYNCjIsMiw1Ljg2MiwxMTc1Mjg0LDM4OTgxLCwyNg0KMywzLDguMDEzLDExNTg1LDU0OSwsMjYNCjQsNCwxMS4wNTQsMjc1NywxMTIsLDI2DQo1LFRvdGFsLCwxMTkxMTI1LDM5NzEwLCwyNg0KMCxQZWFrIyxSZXQuIFRpbWUsQXJlYSxIZWlnaHQsSUQjLDI3DQoxLDEsNC43NDUsMTA4MzYsMzE5LCwyNw0KMiwyLDUuNzA0LDI1OTIwMzEsODU1NzcsLDI3DQozLDMsNi45ODcsMjE2MzksNjc5LCwyNw0KNCw0LDguMDA2LDE5NjE0LDczNywsMjcNCjUsNSw4LjcxNiwxMDA1NSwyNzksLDI3DQo2LDYsOS41NzMsOTg2MiwyMzUsLDI3DQo3LDcsMTEuMDI5LDI1NzQsMTE4LCwyNw0KOCxUb3RhbCwsMjY2NjYxMSw4Nzk0NSwsMjcNCjAsUGVhayMsUmV0LiBUaW1lLEFyZWEsSGVpZ2h0LElEIywyOA0KMSwxLDQuODI2LDExNDI3LDM4MSwsMjgNCjIsMiw2LjMwMiwxMjM1MjI0LDM1NTgzLCwyOA0KMywzLDcuOTk4LDE2NzA5LDY5MCwsMjgNCjQsNCw4LjY5MSwyMjM4MSw3MTgsLDI4DQo1LDUsOS41NjIsMTcyNDMsNjMwLCwyOA0KNiw2LDExLjA0NywyOTQ3LDEyNCwsMjgNCjcsVG90YWwsLDEzMDU5MzIsMzgxMjUsLDI4DQowLFBlYWsjLFJldC4gVGltZSxBcmVhLEhlaWdodCxJRCMsMjkNCjEsMSw2LjMwMSwxMjY3MywyOTMsLDI5DQoyLDIsOC4wMTQsMjIwMzUsNzczLCwyOQ0KMywzLDguNzE5LDE4NTU0LDQ5MywsMjkNCjQsNCw5LjU0OSw2MjQxLDIwMywsMjkNCjUsNSwxMS4wNzEsMjYzMywxMTMsLDI5DQo2LFRvdGFsLCw2MjEzNSwxODc2LCwyOQ0KMCxQZWFrIyxSZXQuIFRpbWUsQXJlYSxIZWlnaHQsSUQjLDMwDQoxLDEsNC43NTksMTkxNzMsNjYxLCwzMA0KMiwyLDUuODMzLDI2NjA3OTcsODgzMDcsLDMwDQozLDMsOC4wMTMsMTI1NTksNTg0LCwzMA0KNCw0LDExLjA2NiwyNjg2LDExNiwsMzANCjUsVG90YWwsLDI2OTUyMTQsODk2NjgsLDMwDQowLFBlYWsjLFJldC4gVGltZSxBcmVhLEhlaWdodCxJRCMsMzENCjEsMSw0Ljg0NiwxODEzOCw2NzQsLDMxDQoyLDIsNS43NjksNzE5NzI4LDIzNjQ2LCwzMQ0KMywzLDYuODkxLDIyOTY5LDY4NiwsMzENCjQsNCw4LjAxMywyMDgwNiw3NjgsLDMxDQo1LDUsOC42OTQsMjMzMzcsNjg4LCwzMQ0KNiw2LDkuNTY0LDE3NzIzLDQ3MywsMzENCjcsNywxMS4wNzcsMjc2NSwxMTgsLDMxDQo4LDgsMTMuMjUzLDE0NzEzLDUwNCwsMzENCjksVG90YWwsLDg0MDE3OSwyNzU1NywsMzENCjAsUGVhayMsUmV0LiBUaW1lLEFyZWEsSGVpZ2h0LElEIywzMg0KMSwxLDUuNTI0LDcyNjg2LDE1ODAsLDMyDQoyLDIsNi4yOTIsMjY3OTEsMTIzMCwsMzINCjMsMyw2Ljk5MywxNTQ0MTIsMzIxMSwsMzINCjQsNCw4LjU5NSwxMDc2NjQ1LDI0Mjc4LCwzMg0KNSw1LDEwLjQ1OSwxMTQ3NzMsMjMzMSwsMzINCjYsNiwxMS45NzEsMjUwMTcsODAyLCwzMg0KNyw3LDEzLjAxOCwxMzQzMCwzMDgsLDMyDQo4LDgsMTYuNTU1LDIxOTAsNzgsLDMyDQo5LDksMTkuODM0LDEzNDcsNTgsLDMyDQoxMCxUb3RhbCwsMTQ4NzI5MCwzMzg3NSwsMzINCjAsUGVhayMsUmV0LiBUaW1lLEFyZWEsSGVpZ2h0LElEIywzMw0KMSwxLDYuOTY5LDcwMDksMTg3LCwzMw0KMiwyLDguNTg4LDY1NTI1LDEzOTQsLDMzDQozLDMsMTAuMzgxLDQ3ODAxLDgxNywsMzMNCjQsNCwxMS45NjgsMjc2NzUsODc5LCwzMw0KNSw1LDEzLjAxNCwyNTcwOSw2NDIsLDMzDQo2LDYsMTQuMzE4LDIzMDUxLDYxOCwsMzMNCjcsVG90YWwsLDE5Njc3MCw0NTM2LCwzMw0KMCxQZWFrIyxSZXQuIFRpbWUsQXJlYSxIZWlnaHQsSUQjLDM0DQoxLDEsOC44NDEsODYxOTYwLDE3MTkxLCwzNA0KMiwyLDEwLjQ0MSwxNzY5OTUsMzA3OSwsMzQNCjMsMywxMS45ODEsNDE2NzQsMTExMywsMzQNCjQsNCwxMy4wNDAsMzE0NDUsNjM4LCwzNA0KNSw1LDE0LjM0OSwzNjI1NSw2ODcsLDM0DQo2LDYsMTYuNTc0LDI2NjMsOTksLDM0DQo3LFRvdGFsLCwxMTUwOTkyLDIyODA4LCwzNA0KMCxQZWFrIyxSZXQuIFRpbWUsQXJlYSxIZWlnaHQsSUQjLDM1DQoxLDEsOS4wNjEsOTE2ODEsMTk0MSwsMzUNCjIsMiwxMS45ODksMjYzOTMsODcyLCwzNQ0KMywzLDEzLjA3MSwyNDk1Myw1NzAsLDM1DQo0LDQsMTQuMzMzLDE3ODk1LDUxOSwsMzUNCjUsNSwxNi41MTcsMjAwOSw4MCwsMzUNCjYsVG90YWwsLDE2MjkzMSwzOTgyLCwzNQ0KMCw9PT09IFNoaW1hZHp1IExhYlNvbHV0aW9ucyBTdW1tYXJ5IFJlcG9ydCA9PT09LCwsLCwzNg0KMSwxLDkuNDY3LDkzMzUzLDIwNzYsLDM2DQoyLDIsMTAuNDE2LDkxNDExLDE4NDksLDM2DQozLDMsMTEuOTc3LDI0MDM3LDgyMCwsMzYNCjQsNCwxMy40MTAsMTM0OTQsMjk0LCwzNg0KNSw1LDE2LjU1MywxMzczLDY0LCwzNg0KNixUb3RhbCwsMjIzNjY4LDUxMDMsLDM2DQowLFBlYWsjLFJldC4gVGltZSxBcmVhLEhlaWdodCxJRCMsMzcNCjEsMSwyLjAyOSwyMTA4LDYzLCwzNw0KMiwyLDYuNTc3LDE4ODgyMzcsMzYxMzksLDM3DQozLDMsOC4xNTksMTc3ODUxNiw0MDYzMywsMzcNCjQsNCw5LjQ2MywxNTE2MjkzLDM1MjU3LCwzNw0KNSw1LDExLjM1NSwyMjM1OTcxLDM1OTc1LCwzNw0KNiw2LDE5Ljg1OCwxNjQ1LDc0LCwzNw0KNyxUb3RhbCwsNzQyMjc3MCwxNDgxNDIsLDM3DQowLD09PT0gU2hpbWFkenUgTGFiU29sdXRpb25zIFN1bW1hcnkgUmVwb3J0ID09PT0sLCwsLDM4DQoxLDEsMi4wNjIsNTAzMywxMzQsLDM4DQoyLDIsNS41NDQsMzg4MTQ3MCw1NjY2NSwsMzgNCjMsMywxMy4yNzMsMjc1MCw5MSwsMzgNCjQsNCwxNS4wNTksMTU3NCw2NSwsMzgNCjUsVG90YWwsLDM4OTA4MjYsNTY5NTQsLDM4DQowLFBlYWsjLFJldC4gVGltZSxBcmVhLEhlaWdodCxJRCMsMzkNCjEsMSwyLjA1Miw0MzU5LDExNiwsMzkNCjIsMiw1LjgxNCwxNjE2MjQsMzAyNCwsMzkNCjMsMyw2Ljg4OSwxOTQ3MDgsNDQ3MCwsMzkNCjQsNCw4LjI4MiwyODY2MDIwNCw2NDc4MTEsLDM5DQo1LDUsMTIuNTA1LDI1ODU5LDk4OSwsMzkNCjYsVG90YWwsLDI5MDQ2NzU0LDY1NjQxMCwsMzkNCjAsUGVhayMsUmV0LiBUaW1lLEFyZWEsSGVpZ2h0LElEIyw0MA0KMSwxLDUuOTY3LDc3ODQxLDE2ODAsLDQwDQoyLDIsNi44MDMsMzEwMTc5LDcxOTEsLDQwDQozLDMsOC4xMjAsMjcxMTM0OTIsNjAyNzIzLCw0MA0KNCw0LDEyLjQ0Miw1OTI5NSwxNjQyLCw0MA0KNSxUb3RhbCwsMjc1NjA4MDcsNjEzMjM2LCw0MA0KMCw9PT09IFNoaW1hZHp1IExhYlNvbHV0aW9ucyBTdW1tYXJ5IFJlcG9ydCA9PT09LCwsLCw0MQ0KMSwxLDYuNTA1LDEwNTEzODMyLDIwNTg1NywsNDENCjIsMiw3LjY2MywxNzU4MDY2OSwzODAyMjIsLDQxDQozLDMsMTIuMzkyLDYyODY5LDIxODQsLDQxDQo0LDQsMTUuNjM1LDY4OTcsMTYxLCw0MQ0KNSxUb3RhbCwsMjgxNjQyNjcsNTg4NDIzLCw0MQ0K\" target=\"_blank\">Click here to download your file</a>"
      ],
      "text/plain": [
       "<IPython.core.display.HTML object>"
      ]
     },
     "metadata": {},
     "output_type": "display_data"
    }
   ],
   "source": [
    "data = open('converted.csv', \"rb\").read()\n",
    "b64 = base64.b64encode(data)\n",
    "payload = b64.decode()\n",
    "    \n",
    "html = '<a download=\"converted.csv\" href=\"data:text/csv;base64,{payload}\" target=\"_blank\">{title}</a>'\n",
    "html = html.format(payload=payload,title=\"Click here to download your file\")\n",
    "display(HTML(html))"
   ]
  },
  {
   "cell_type": "code",
   "execution_count": null,
   "id": "3a730513",
   "metadata": {},
   "outputs": [],
   "source": []
  },
  {
   "cell_type": "code",
   "execution_count": null,
   "id": "ebe546b7",
   "metadata": {},
   "outputs": [],
   "source": []
  }
 ],
 "metadata": {
  "kernelspec": {
   "display_name": "Python 3 (ipykernel)",
   "language": "python",
   "name": "python3"
  },
  "language_info": {
   "codemirror_mode": {
    "name": "ipython",
    "version": 3
   },
   "file_extension": ".py",
   "mimetype": "text/x-python",
   "name": "python",
   "nbconvert_exporter": "python",
   "pygments_lexer": "ipython3",
   "version": "3.10.9"
  }
 },
 "nbformat": 4,
 "nbformat_minor": 5
}
