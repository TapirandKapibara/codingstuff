{
 "cells": [
  {
   "cell_type": "code",
   "execution_count": 4,
   "id": "3236aefc",
   "metadata": {},
   "outputs": [
    {
     "name": "stderr",
     "output_type": "stream",
     "text": [
      "Enabling: voila\n",
      "- Writing config: C:\\Users\\Akaar\\anaconda3\\etc\\jupyter\n",
      "    - Validating...\n",
      "Error loading server extension voila\n",
      "      X is voila importable?\n"
     ]
    }
   ],
   "source": [
    "!jupyter serverextension enable voila --sys-prefix"
   ]
  },
  {
   "cell_type": "code",
   "execution_count": 1,
   "id": "d8ba67d4",
   "metadata": {},
   "outputs": [],
   "source": [
    "# importing everything I need\n",
    "import ghostscript\n",
    "import camelot\n",
    "import pandas as pd\n",
    "import numpy\n",
    "import warnings\n",
    "warnings.filterwarnings('ignore')\n",
    "import ipywidgets as widgets\n",
    "import base64\n",
    "from IPython.display import HTML\n",
    "from IPython.display import display\n",
    "from ipywidgets import Button, Layout"
   ]
  },
  {
   "cell_type": "code",
   "execution_count": 2,
   "id": "5be5cb37",
   "metadata": {},
   "outputs": [],
   "source": [
    "#output = widgets.Output()"
   ]
  },
  {
   "cell_type": "code",
   "execution_count": 3,
   "id": "7ac37b09",
   "metadata": {},
   "outputs": [
    {
     "data": {
      "text/html": [
       "<h3><span style=\"color:blue\">  Upload your file by clicking the button below </span></h3>\n",
       "<span style=\"color:blue\">  The tool accepts one file at time </span>\n"
      ],
      "text/plain": [
       "<IPython.core.display.HTML object>"
      ]
     },
     "metadata": {},
     "output_type": "display_data"
    }
   ],
   "source": [
    "%%html\n",
    "<h3><span style=\"color:blue\">  Upload your file by clicking the button below </span></h3>\n",
    "<span style=\"color:blue\">  The tool accepts one file at time </span>"
   ]
  },
  {
   "cell_type": "code",
   "execution_count": 4,
   "id": "d06dca79",
   "metadata": {},
   "outputs": [
    {
     "data": {
      "application/vnd.jupyter.widget-view+json": {
       "model_id": "bedab984b6ef4d4692cfd6a48191b3a6",
       "version_major": 2,
       "version_minor": 0
      },
      "text/plain": [
       "FileUpload(value={}, accept='.pdf', description='Upload')"
      ]
     },
     "metadata": {},
     "output_type": "display_data"
    },
    {
     "data": {
      "application/vnd.jupyter.widget-view+json": {
       "model_id": "b382521413e244a6bcc0d5feb8b1d985",
       "version_major": 2,
       "version_minor": 0
      },
      "text/plain": [
       "Button(description='Submit your file', layout=Layout(border='5px solid blue', height='45px', width='180px'), s…"
      ]
     },
     "metadata": {},
     "output_type": "display_data"
    }
   ],
   "source": [
    "#@output.capture(clear_output=False,wait=True)\n",
    "def main_function(b):\n",
    "    df_list = []\n",
    "    table_id = 0\n",
    "    input_file = list(uploader.value.values())[0]\n",
    "    content = input_file['content']\n",
    "    with open(\"outputfile.pdf\", \"wb\") as fp:\n",
    "        fp.write(content)\n",
    "    tables = camelot.read_pdf(\"outputfile.pdf\", pages='all')\n",
    "    for (index, table) in enumerate(tables):\n",
    "        if '1 Detector A 280nm' in table.df.values:\n",
    "            pass\n",
    "        else:\n",
    "            table_id+=1\n",
    "            table.df.insert(loc=len(table.df.columns), column='Table_id', value = table_id)\n",
    "            df_list.append(table.df)\n",
    "    df_fin = pd.concat(df_list)\n",
    "    df_fin.dropna(axis=0, how='all', inplace=True)\n",
    "    df_fin.dropna(axis=1, how='all', inplace=True)\n",
    "    df_fin.to_csv('converted.csv')\n",
    "    data = open('converted.csv', \"rb\").read()\n",
    "    b64 = base64.b64encode(data)\n",
    "    payload = b64.decode()\n",
    "    html = '<a download=\"converted.csv\" href=\"data:text/csv;base64,{payload}\" target=\"_blank\">{title}</a>'\n",
    "    html = html.format(payload=payload,title=\"Click here to download your file\")\n",
    "    display(HTML(html))\n",
    "run_button = widgets.Button(\n",
    "description = 'Submit your file',layout=Layout(width='180px', height='45px', border='5px solid blue')\n",
    ")\n",
    "uploader = widgets.FileUpload(accept = '.pdf', multiple=False)\n",
    "display(uploader)\n",
    "run_button.on_click(main_function)\n",
    "display(run_button)\n",
    "#output"
   ]
  },
  {
   "cell_type": "code",
   "execution_count": null,
   "id": "6e206bdf",
   "metadata": {},
   "outputs": [],
   "source": []
  }
 ],
 "metadata": {
  "kernelspec": {
   "display_name": "Python 3 (ipykernel)",
   "language": "python",
   "name": "python3"
  },
  "language_info": {
   "codemirror_mode": {
    "name": "ipython",
    "version": 3
   },
   "file_extension": ".py",
   "mimetype": "text/x-python",
   "name": "python",
   "nbconvert_exporter": "python",
   "pygments_lexer": "ipython3",
   "version": "3.10.9"
  }
 },
 "nbformat": 4,
 "nbformat_minor": 5
}
